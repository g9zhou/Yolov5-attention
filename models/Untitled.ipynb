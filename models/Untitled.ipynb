{
 "cells": [
  {
   "cell_type": "code",
   "execution_count": 35,
   "id": "7d1484c8",
   "metadata": {},
   "outputs": [],
   "source": [
    "import torch\n",
    "import yaml\n",
    "import os\n",
    "import collections\n",
    "from pathlib import Path\n",
    "from yolo import Model\n",
    "import torch.nn as nn\n",
    "from models.common import *\n",
    "from self_attention_cv import MultiHeadSelfAttention\n",
    "from torchsummary import summary\n",
    "from utils.general import *"
   ]
  },
  {
   "cell_type": "code",
   "execution_count": 36,
   "id": "ab4fd10c",
   "metadata": {},
   "outputs": [],
   "source": [
    "cfg = 'yolov5s-attention.yaml'\n",
    "yaml_file = Path(cfg).name\n",
    "with open(cfg, encoding='ascii', errors='ignore') as f:\n",
    "    yaml_cont = yaml.safe_load(f)"
   ]
  },
  {
   "cell_type": "code",
   "execution_count": 38,
   "id": "9ff31176",
   "metadata": {},
   "outputs": [
    {
     "name": "stderr",
     "output_type": "stream",
     "text": [
      "\n",
      "                 from  n    params  module                                  arguments                     \n",
      "  0                -1  1      3520  models.common.Conv                      [3, 32, 6, 2, 2]              \n",
      "  1                -1  1     18560  models.common.Conv                      [32, 64, 3, 2]                \n",
      "  2                -1  1     18816  models.common.C3                        [64, 64, 1]                   \n",
      "  3                -1  1     73984  models.common.Conv                      [64, 128, 3, 2]               \n",
      "  4                -1  2    115712  models.common.C3                        [128, 128, 2]                 \n",
      "  5                -1  1    295424  models.common.Conv                      [128, 256, 3, 2]              \n",
      "  6                -1  3    625152  models.common.C3                        [256, 256, 3]                 \n",
      "  7                -1  1   1180672  models.common.Conv                      [256, 512, 3, 2]              \n",
      "  8                -1  1   1182720  models.common.C3                        [512, 512, 1]                 \n",
      "  9                -1  1    656896  models.common.SPPF                      [512, 512, 5]                 \n",
      " 10                -1  1    328321  models.common.MultiHeadSelfAttention    [512, 'relu']                 \n",
      " 11                -1  1     16448  models.common.Conv                      [512, 32, 1, 1]               \n",
      " 12                -1  1         0  torch.nn.modules.upsampling.Upsample    [None, 2, 'nearest']          \n",
      " 13                 6  1     82241  models.common.MultiHeadSelfAttention    [256, 'relu']                 \n",
      " 14          [-1, -2]  1         0  models.common.Concat                    [1]                           \n",
      " 15                -1  1    304640  models.common.C3                        [288, 256, 1, False]          \n",
      " 16                -1  1     33024  models.common.Conv                      [256, 128, 1, 1]              \n",
      " 17                -1  1         0  torch.nn.modules.upsampling.Upsample    [None, 2, 'nearest']          \n",
      " 18                 4  1     20641  models.common.MultiHeadSelfAttention    [128, 'relu']                 \n",
      " 19          [-1, -2]  1         0  models.common.Concat                    [1]                           \n",
      " 20                -1  1     90880  models.common.C3                        [256, 128, 1, False]          \n",
      " 21                -1  1    147712  models.common.Conv                      [128, 128, 3, 2]              \n",
      " 22          [-1, 14]  1         0  models.common.Concat                    [1]                           \n",
      " 23                -1  1    337408  models.common.C3                        [416, 256, 1, False]          \n",
      " 24                -1  1    590336  models.common.Conv                      [256, 256, 3, 2]              \n",
      " 25          [-1, 10]  1         0  models.common.Concat                    [1]                           \n",
      " 26                -1  1   1313792  models.common.C3                        [768, 512, 1, False]          \n",
      " 27      [17, 20, 23]  1    193125  yolo.Detect                             [120, [[10, 13, 16, 30, 33, 23], [30, 61, 62, 45, 59, 119], [116, 90, 156, 198, 373, 326]], [128, 128, 256]]\n",
      "YOLOv5s-attention summary: 229 layers, 7630024 parameters, 7630024 gradients, 18.2 GFLOPs\n",
      "\n",
      "Overriding model.yaml nc=80 with nc=120\n",
      "\n",
      "                 from  n    params  module                                  arguments                     \n",
      "  0                -1  1      3520  models.common.Conv                      [3, 32, 6, 2, 2]              \n",
      "  1                -1  1     18560  models.common.Conv                      [32, 64, 3, 2]                \n",
      "  2                -1  1     18816  models.common.C3                        [64, 64, 1]                   \n",
      "  3                -1  1     73984  models.common.Conv                      [64, 128, 3, 2]               \n",
      "  4                -1  2    115712  models.common.C3                        [128, 128, 2]                 \n",
      "  5                -1  1    295424  models.common.Conv                      [128, 256, 3, 2]              \n",
      "  6                -1  3    625152  models.common.C3                        [256, 256, 3]                 \n",
      "  7                -1  1   1180672  models.common.Conv                      [256, 512, 3, 2]              \n",
      "  8                -1  1   1182720  models.common.C3                        [512, 512, 1]                 \n",
      "  9                -1  1    656896  models.common.SPPF                      [512, 512, 5]                 \n",
      " 10                -1  1    131584  models.common.Conv                      [512, 256, 1, 1]              \n",
      " 11                -1  1         0  torch.nn.modules.upsampling.Upsample    [None, 2, 'nearest']          \n",
      " 12           [-1, 6]  1         0  models.common.Concat                    [1]                           \n",
      " 13                -1  1    361984  models.common.C3                        [512, 256, 1, False]          \n",
      " 14                -1  1     33024  models.common.Conv                      [256, 128, 1, 1]              \n",
      " 15                -1  1         0  torch.nn.modules.upsampling.Upsample    [None, 2, 'nearest']          \n",
      " 16           [-1, 4]  1         0  models.common.Concat                    [1]                           \n",
      " 17                -1  1     90880  models.common.C3                        [256, 128, 1, False]          \n",
      " 18                -1  1    147712  models.common.Conv                      [128, 128, 3, 2]              \n",
      " 19          [-1, 14]  1         0  models.common.Concat                    [1]                           \n",
      " 20                -1  1    296448  models.common.C3                        [256, 256, 1, False]          \n",
      " 21                -1  1    590336  models.common.Conv                      [256, 256, 3, 2]              \n",
      " 22          [-1, 10]  1         0  models.common.Concat                    [1]                           \n",
      " 23                -1  1   1182720  models.common.C3                        [512, 512, 1, False]          \n",
      " 24      [17, 20, 23]  1    337125  yolo.Detect                             [120, [[10, 13, 16, 30, 33, 23], [30, 61, 62, 45, 59, 119], [116, 90, 156, 198, 373, 326]], [128, 256, 512]]\n",
      "Model summary: 214 layers, 7343269 parameters, 7343269 gradients, 17.0 GFLOPs\n",
      "\n"
     ]
    },
    {
     "data": {
      "text/plain": [
       "_IncompatibleKeys(missing_keys=['model.10.gamma', 'model.10.query_conv.weight', 'model.10.query_conv.bias', 'model.10.key_conv.weight', 'model.10.key_conv.bias', 'model.10.value_conv.weight', 'model.10.value_conv.bias', 'model.11.conv.weight', 'model.11.bn.weight', 'model.11.bn.bias', 'model.11.bn.running_mean', 'model.11.bn.running_var', 'model.13.gamma', 'model.13.query_conv.weight', 'model.13.query_conv.bias', 'model.13.key_conv.weight', 'model.13.key_conv.bias', 'model.13.value_conv.weight', 'model.13.value_conv.bias', 'model.15.cv1.conv.weight', 'model.15.cv1.bn.weight', 'model.15.cv1.bn.bias', 'model.15.cv1.bn.running_mean', 'model.15.cv1.bn.running_var', 'model.15.cv2.conv.weight', 'model.15.cv2.bn.weight', 'model.15.cv2.bn.bias', 'model.15.cv2.bn.running_mean', 'model.15.cv2.bn.running_var', 'model.15.cv3.conv.weight', 'model.15.cv3.bn.weight', 'model.15.cv3.bn.bias', 'model.15.cv3.bn.running_mean', 'model.15.cv3.bn.running_var', 'model.15.m.0.cv1.conv.weight', 'model.15.m.0.cv1.bn.weight', 'model.15.m.0.cv1.bn.bias', 'model.15.m.0.cv1.bn.running_mean', 'model.15.m.0.cv1.bn.running_var', 'model.15.m.0.cv2.conv.weight', 'model.15.m.0.cv2.bn.weight', 'model.15.m.0.cv2.bn.bias', 'model.15.m.0.cv2.bn.running_mean', 'model.15.m.0.cv2.bn.running_var', 'model.16.conv.weight', 'model.16.bn.weight', 'model.16.bn.bias', 'model.16.bn.running_mean', 'model.16.bn.running_var', 'model.18.gamma', 'model.18.query_conv.weight', 'model.18.query_conv.bias', 'model.18.key_conv.weight', 'model.18.key_conv.bias', 'model.18.value_conv.weight', 'model.18.value_conv.bias', 'model.20.cv1.conv.weight', 'model.20.cv1.bn.weight', 'model.20.cv1.bn.bias', 'model.20.cv1.bn.running_mean', 'model.20.cv1.bn.running_var', 'model.20.cv2.conv.weight', 'model.20.cv2.bn.weight', 'model.20.cv2.bn.bias', 'model.20.cv2.bn.running_mean', 'model.20.cv2.bn.running_var', 'model.20.cv3.conv.weight', 'model.20.cv3.bn.weight', 'model.20.cv3.bn.bias', 'model.20.cv3.bn.running_mean', 'model.20.cv3.bn.running_var', 'model.20.m.0.cv1.conv.weight', 'model.20.m.0.cv1.bn.weight', 'model.20.m.0.cv1.bn.bias', 'model.20.m.0.cv1.bn.running_mean', 'model.20.m.0.cv1.bn.running_var', 'model.20.m.0.cv2.conv.weight', 'model.20.m.0.cv2.bn.weight', 'model.20.m.0.cv2.bn.bias', 'model.20.m.0.cv2.bn.running_mean', 'model.20.m.0.cv2.bn.running_var', 'model.21.conv.weight', 'model.21.bn.weight', 'model.21.bn.bias', 'model.21.bn.running_mean', 'model.21.bn.running_var', 'model.23.cv1.conv.weight', 'model.23.cv1.bn.weight', 'model.23.cv1.bn.bias', 'model.23.cv1.bn.running_mean', 'model.23.cv1.bn.running_var', 'model.23.cv2.conv.weight', 'model.23.cv2.bn.weight', 'model.23.cv2.bn.bias', 'model.23.cv2.bn.running_mean', 'model.23.cv2.bn.running_var', 'model.23.cv3.conv.weight', 'model.23.cv3.bn.weight', 'model.23.cv3.bn.bias', 'model.23.cv3.bn.running_mean', 'model.23.cv3.bn.running_var', 'model.23.m.0.cv1.conv.weight', 'model.23.m.0.cv1.bn.weight', 'model.23.m.0.cv1.bn.bias', 'model.23.m.0.cv1.bn.running_mean', 'model.23.m.0.cv1.bn.running_var', 'model.23.m.0.cv2.conv.weight', 'model.23.m.0.cv2.bn.weight', 'model.23.m.0.cv2.bn.bias', 'model.23.m.0.cv2.bn.running_mean', 'model.23.m.0.cv2.bn.running_var', 'model.24.conv.weight', 'model.24.bn.weight', 'model.24.bn.bias', 'model.24.bn.running_mean', 'model.24.bn.running_var', 'model.26.cv1.conv.weight', 'model.26.cv1.bn.weight', 'model.26.cv1.bn.bias', 'model.26.cv1.bn.running_mean', 'model.26.cv1.bn.running_var', 'model.26.cv2.conv.weight', 'model.26.cv2.bn.weight', 'model.26.cv2.bn.bias', 'model.26.cv2.bn.running_mean', 'model.26.cv2.bn.running_var', 'model.26.cv3.conv.weight', 'model.26.cv3.bn.weight', 'model.26.cv3.bn.bias', 'model.26.cv3.bn.running_mean', 'model.26.cv3.bn.running_var', 'model.26.m.0.cv1.conv.weight', 'model.26.m.0.cv1.bn.weight', 'model.26.m.0.cv1.bn.bias', 'model.26.m.0.cv1.bn.running_mean', 'model.26.m.0.cv1.bn.running_var', 'model.26.m.0.cv2.conv.weight', 'model.26.m.0.cv2.bn.weight', 'model.26.m.0.cv2.bn.bias', 'model.26.m.0.cv2.bn.running_mean', 'model.26.m.0.cv2.bn.running_var', 'model.27.anchors', 'model.27.m.0.weight', 'model.27.m.0.bias', 'model.27.m.1.weight', 'model.27.m.1.bias', 'model.27.m.2.weight', 'model.27.m.2.bias'], unexpected_keys=[])"
      ]
     },
     "execution_count": 38,
     "metadata": {},
     "output_type": "execute_result"
    }
   ],
   "source": [
    "model = Model(cfg, ch=3, nc=120)\n",
    "weights = '../yolov5s.pt'\n",
    "ckpt = torch.load(weights)\n",
    "model_real = Model(ckpt['model'].yaml,ch=3,nc=120)\n",
    "exclude = []\n",
    "csd = ckpt['model'].float().state_dict()\n",
    "csd_real = intersect_dicts(csd, model_real.state_dict(), exclude=exclude)\n",
    "model_real.load_state_dict(csd_real, strict=False)\n",
    "csd = intersect_dicts(csd, model.state_dict(), exclude=exclude)\n",
    "model.load_state_dict(csd,strict=False)"
   ]
  },
  {
   "cell_type": "code",
   "execution_count": 4,
   "id": "2c7d9596",
   "metadata": {},
   "outputs": [],
   "source": []
  },
  {
   "cell_type": "code",
   "execution_count": 5,
   "id": "48b94d54",
   "metadata": {},
   "outputs": [],
   "source": []
  },
  {
   "cell_type": "code",
   "execution_count": 9,
   "id": "52b7f0db",
   "metadata": {},
   "outputs": [],
   "source": []
  },
  {
   "cell_type": "code",
   "execution_count": 10,
   "id": "85480351",
   "metadata": {},
   "outputs": [],
   "source": []
  },
  {
   "cell_type": "code",
   "execution_count": 41,
   "id": "7b51f5f1",
   "metadata": {},
   "outputs": [
    {
     "data": {
      "text/plain": [
       "tensor([[[[True, True, True],\n",
       "          [True, True, True],\n",
       "          [True, True, True]],\n",
       "\n",
       "         [[True, True, True],\n",
       "          [True, True, True],\n",
       "          [True, True, True]],\n",
       "\n",
       "         [[True, True, True],\n",
       "          [True, True, True],\n",
       "          [True, True, True]],\n",
       "\n",
       "         ...,\n",
       "\n",
       "         [[True, True, True],\n",
       "          [True, True, True],\n",
       "          [True, True, True]],\n",
       "\n",
       "         [[True, True, True],\n",
       "          [True, True, True],\n",
       "          [True, True, True]],\n",
       "\n",
       "         [[True, True, True],\n",
       "          [True, True, True],\n",
       "          [True, True, True]]],\n",
       "\n",
       "\n",
       "        [[[True, True, True],\n",
       "          [True, True, True],\n",
       "          [True, True, True]],\n",
       "\n",
       "         [[True, True, True],\n",
       "          [True, True, True],\n",
       "          [True, True, True]],\n",
       "\n",
       "         [[True, True, True],\n",
       "          [True, True, True],\n",
       "          [True, True, True]],\n",
       "\n",
       "         ...,\n",
       "\n",
       "         [[True, True, True],\n",
       "          [True, True, True],\n",
       "          [True, True, True]],\n",
       "\n",
       "         [[True, True, True],\n",
       "          [True, True, True],\n",
       "          [True, True, True]],\n",
       "\n",
       "         [[True, True, True],\n",
       "          [True, True, True],\n",
       "          [True, True, True]]],\n",
       "\n",
       "\n",
       "        [[[True, True, True],\n",
       "          [True, True, True],\n",
       "          [True, True, True]],\n",
       "\n",
       "         [[True, True, True],\n",
       "          [True, True, True],\n",
       "          [True, True, True]],\n",
       "\n",
       "         [[True, True, True],\n",
       "          [True, True, True],\n",
       "          [True, True, True]],\n",
       "\n",
       "         ...,\n",
       "\n",
       "         [[True, True, True],\n",
       "          [True, True, True],\n",
       "          [True, True, True]],\n",
       "\n",
       "         [[True, True, True],\n",
       "          [True, True, True],\n",
       "          [True, True, True]],\n",
       "\n",
       "         [[True, True, True],\n",
       "          [True, True, True],\n",
       "          [True, True, True]]],\n",
       "\n",
       "\n",
       "        ...,\n",
       "\n",
       "\n",
       "        [[[True, True, True],\n",
       "          [True, True, True],\n",
       "          [True, True, True]],\n",
       "\n",
       "         [[True, True, True],\n",
       "          [True, True, True],\n",
       "          [True, True, True]],\n",
       "\n",
       "         [[True, True, True],\n",
       "          [True, True, True],\n",
       "          [True, True, True]],\n",
       "\n",
       "         ...,\n",
       "\n",
       "         [[True, True, True],\n",
       "          [True, True, True],\n",
       "          [True, True, True]],\n",
       "\n",
       "         [[True, True, True],\n",
       "          [True, True, True],\n",
       "          [True, True, True]],\n",
       "\n",
       "         [[True, True, True],\n",
       "          [True, True, True],\n",
       "          [True, True, True]]],\n",
       "\n",
       "\n",
       "        [[[True, True, True],\n",
       "          [True, True, True],\n",
       "          [True, True, True]],\n",
       "\n",
       "         [[True, True, True],\n",
       "          [True, True, True],\n",
       "          [True, True, True]],\n",
       "\n",
       "         [[True, True, True],\n",
       "          [True, True, True],\n",
       "          [True, True, True]],\n",
       "\n",
       "         ...,\n",
       "\n",
       "         [[True, True, True],\n",
       "          [True, True, True],\n",
       "          [True, True, True]],\n",
       "\n",
       "         [[True, True, True],\n",
       "          [True, True, True],\n",
       "          [True, True, True]],\n",
       "\n",
       "         [[True, True, True],\n",
       "          [True, True, True],\n",
       "          [True, True, True]]],\n",
       "\n",
       "\n",
       "        [[[True, True, True],\n",
       "          [True, True, True],\n",
       "          [True, True, True]],\n",
       "\n",
       "         [[True, True, True],\n",
       "          [True, True, True],\n",
       "          [True, True, True]],\n",
       "\n",
       "         [[True, True, True],\n",
       "          [True, True, True],\n",
       "          [True, True, True]],\n",
       "\n",
       "         ...,\n",
       "\n",
       "         [[True, True, True],\n",
       "          [True, True, True],\n",
       "          [True, True, True]],\n",
       "\n",
       "         [[True, True, True],\n",
       "          [True, True, True],\n",
       "          [True, True, True]],\n",
       "\n",
       "         [[True, True, True],\n",
       "          [True, True, True],\n",
       "          [True, True, True]]]])"
      ]
     },
     "execution_count": 41,
     "metadata": {},
     "output_type": "execute_result"
    }
   ],
   "source": [
    "model.model[1].conv.weight == model_real.model[1].conv.weight"
   ]
  },
  {
   "cell_type": "code",
   "execution_count": null,
   "id": "de7e2a6d",
   "metadata": {},
   "outputs": [],
   "source": []
  },
  {
   "cell_type": "code",
   "execution_count": 29,
   "id": "70f22c08",
   "metadata": {},
   "outputs": [],
   "source": [
    "weights = 'yolov5s.pt'\n",
    "ckpt = torch.load(weights, map_location='cpu')\n",
    "csd = ckpt['model'].float().state_dict"
   ]
  },
  {
   "cell_type": "code",
   "execution_count": 31,
   "id": "611a847b",
   "metadata": {},
   "outputs": [
    {
     "name": "stdout",
     "output_type": "stream",
     "text": [
      "/Users/genggengzhou/Desktop/Stanford/2022 Fall/CS 230/final project/yolov5/models\n"
     ]
    }
   ],
   "source": [
    "cd models/"
   ]
  },
  {
   "cell_type": "code",
   "execution_count": null,
   "id": "03802d83",
   "metadata": {},
   "outputs": [],
   "source": []
  },
  {
   "cell_type": "code",
   "execution_count": 11,
   "id": "255d360a",
   "metadata": {},
   "outputs": [],
   "source": []
  },
  {
   "cell_type": "code",
   "execution_count": 12,
   "id": "aa207bdb",
   "metadata": {},
   "outputs": [
    {
     "data": {
      "text/plain": [
       "False"
      ]
     },
     "execution_count": 12,
     "metadata": {},
     "output_type": "execute_result"
    }
   ],
   "source": []
  },
  {
   "cell_type": "code",
   "execution_count": 13,
   "id": "0367c0b2",
   "metadata": {},
   "outputs": [
    {
     "data": {
      "text/plain": [
       "False"
      ]
     },
     "execution_count": 13,
     "metadata": {},
     "output_type": "execute_result"
    }
   ],
   "source": []
  },
  {
   "cell_type": "code",
   "execution_count": null,
   "id": "add5aee2",
   "metadata": {},
   "outputs": [],
   "source": []
  },
  {
   "cell_type": "code",
   "execution_count": null,
   "id": "41337481",
   "metadata": {},
   "outputs": [],
   "source": []
  },
  {
   "cell_type": "code",
   "execution_count": null,
   "id": "18b0d02f",
   "metadata": {},
   "outputs": [],
   "source": []
  },
  {
   "cell_type": "code",
   "execution_count": 18,
   "id": "479601b3",
   "metadata": {},
   "outputs": [
    {
     "name": "stdout",
     "output_type": "stream",
     "text": [
      "Untitled.ipynb          \u001b[34mhub\u001b[m\u001b[m/                    yolov5n.yaml\r\n",
      "__init__.py             \u001b[34msegment\u001b[m\u001b[m/                yolov5s-attention.yaml\r\n",
      "\u001b[34m__pycache__\u001b[m\u001b[m/            tf.py                   yolov5s.yaml\r\n",
      "attention.py            yolo.py                 yolov5x.yaml\r\n",
      "common.py               yolov5l.yaml\r\n",
      "experimental.py         yolov5m.yaml\r\n"
     ]
    }
   ],
   "source": []
  },
  {
   "cell_type": "code",
   "execution_count": 28,
   "id": "2c524eb5",
   "metadata": {},
   "outputs": [
    {
     "name": "stdout",
     "output_type": "stream",
     "text": [
      "CITATION.cff        \u001b[34mclassify\u001b[m\u001b[m/           requirements.txt    tutorial.ipynb\r\n",
      "CONTRIBUTING.md     \u001b[34mdata\u001b[m\u001b[m/               \u001b[34mruns\u001b[m\u001b[m/               \u001b[34mutils\u001b[m\u001b[m/\r\n",
      "LICENSE             detect.py           \u001b[34msegment\u001b[m\u001b[m/            val.py\r\n",
      "README.md           export.py           setup.cfg           yolov5s.pt\r\n",
      "\u001b[34m__pycache__\u001b[m\u001b[m/        hubconf.py          train-attention.py\r\n",
      "benchmarks.py       \u001b[34mmodels\u001b[m\u001b[m/             train.py\r\n"
     ]
    }
   ],
   "source": [
    "ls"
   ]
  },
  {
   "cell_type": "code",
   "execution_count": null,
   "id": "8d77b51f",
   "metadata": {},
   "outputs": [],
   "source": []
  }
 ],
 "metadata": {
  "kernelspec": {
   "display_name": "Python 3 (ipykernel)",
   "language": "python",
   "name": "python3"
  },
  "language_info": {
   "codemirror_mode": {
    "name": "ipython",
    "version": 3
   },
   "file_extension": ".py",
   "mimetype": "text/x-python",
   "name": "python",
   "nbconvert_exporter": "python",
   "pygments_lexer": "ipython3",
   "version": "3.9.7"
  }
 },
 "nbformat": 4,
 "nbformat_minor": 5
}
