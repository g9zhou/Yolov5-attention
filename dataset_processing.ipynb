{
 "cells": [
  {
   "cell_type": "code",
   "execution_count": 226,
   "id": "cdec8045",
   "metadata": {},
   "outputs": [],
   "source": [
    "import os\n",
    "import shutil\n",
    "import xml.etree.ElementTree as ET\n",
    "\n",
    "DATABASE_PATH = \"./stanford_dogset/\"\n",
    "IMAGE_PATH = DATABASE_PATH+'Images/'\n",
    "ANNOTATION_PATH = DATABASE_PATH+'Annotation/'\n",
    "CLASS_PATH = './classes.txt'"
   ]
  },
  {
   "cell_type": "code",
   "execution_count": 227,
   "id": "55fbca32",
   "metadata": {},
   "outputs": [],
   "source": [
    "def create_class():\n",
    "    class_file = open('classes.txt','w')\n",
    "    j = -1\n",
    "    for name in os.listdir(\"./stanford_dogset/Annotation\"):\n",
    "        if name[0] == '.': continue\n",
    "        print(name)\n",
    "        j += 1\n",
    "        for i in range(len(name)):\n",
    "            if name[i] == '-':\n",
    "                breed = name[i+1:]\n",
    "                class_file.write(str(j)+': '+breed+'\\n')\n",
    "                break;\n",
    "    class_file.close()\n",
    "      \n",
    "# create_class()"
   ]
  },
  {
   "cell_type": "code",
   "execution_count": 228,
   "id": "86fedde9",
   "metadata": {},
   "outputs": [],
   "source": [
    "def make_database():\n",
    "    for folder in os.listdir(IMAGE_PATH):\n",
    "        if folder[0] == '.': continue\n",
    "        for image in os.listdir(IMAGE_PATH+folder):\n",
    "            shutil.move(IMAGE_PATH+folder+'/'+image, IMAGE_PATH+image)\n",
    "    \n",
    "# make_database()"
   ]
  },
  {
   "cell_type": "code",
   "execution_count": 229,
   "id": "ef731a7a",
   "metadata": {},
   "outputs": [],
   "source": [
    "def make_annotation():\n",
    "    with open(CLASS_PATH) as f:\n",
    "        class_names = f.readlines()\n",
    "    classes = [c.strip() for c in class_names]\n",
    "    classes = [c.split()[1] for c in classes]\n",
    "    for folder in os.listdir(ANNOTATION_PATH):\n",
    "        if folder[0] == '.': continue\n",
    "        for annotation in os.listdir(ANNOTATION_PATH+folder):\n",
    "            in_file = open(ANNOTATION_PATH+folder+'/'+annotation)\n",
    "            tree = ET.parse(in_file)\n",
    "            root = tree.getroot()\n",
    "            list_file = open(ANNOTATION_PATH+annotation+'.txt','w')\n",
    "            width = 0\n",
    "            height = 0\n",
    "            for sz in root.iter('size'):\n",
    "                width = int(sz.find('width').text)\n",
    "                height = int(sz.find('height').text)\n",
    "            for obj in root.iter('object'):\n",
    "                cls = obj.find('name').text\n",
    "                cls_id = classes.index(cls)\n",
    "                xmlbox = obj.find('bndbox')\n",
    "                b = (int(xmlbox.find('xmin').text), int(xmlbox.find('ymin').text), int(xmlbox.find('xmax').text), int(xmlbox.find('ymax').text))\n",
    "                c = [(b[2]+b[0])/2.0/float(width), (b[1]+b[3])/2.0/float(height), (b[2]-b[0])/float(width), (b[3]-b[1])/float(height)]\n",
    "                list_file.write(str(cls_id)+' '+' '.join([str(a) for a in c])+'\\n');\n",
    "            list_file.close()\n",
    "            \n",
    "# make_annotation()"
   ]
  },
  {
   "cell_type": "code",
   "execution_count": 230,
   "id": "770b915e",
   "metadata": {},
   "outputs": [],
   "source": [
    "def delete_file():\n",
    "    for file in os.listdir(ANNOTATION_PATH):\n",
    "        if file[-3:] == 'txt': os.remove(ANNOTATION_PATH+file)\n",
    "        \n",
    "# delete_file()"
   ]
  },
  {
   "cell_type": "code",
   "execution_count": null,
   "id": "b84a4ba7",
   "metadata": {},
   "outputs": [],
   "source": []
  },
  {
   "cell_type": "code",
   "execution_count": 231,
   "id": "77b43240",
   "metadata": {},
   "outputs": [],
   "source": [
    "import scipy.io as sio\n",
    "file_list = sio.loadmat('./stanford_dogset/lists/file_list.mat')\n",
    "test_list = sio.loadmat('./stanford_dogset/lists/test_list.mat')\n",
    "train_list = sio.loadmat('./stanford_dogset/lists/train_list.mat')"
   ]
  },
  {
   "cell_type": "code",
   "execution_count": 273,
   "id": "e9800594",
   "metadata": {},
   "outputs": [],
   "source": [
    "def split():\n",
    "    IMAGE_PATH_NEW = DATABASE_PATH+'Images/'\n",
    "    ANNOTATION_PATH_NEW = DATABASE_PATH+'Annotation/'\n",
    "    \n",
    "    if not os.path.exists(IMAGE_PATH_NEW+'test'): os.makedirs(IMAGE_PATH_NEW+'test')\n",
    "    if not os.path.exists(ANNOTATION_PATH_NEW+'test'): os.makedirs(ANNOTATION_PATH_NEW+'test')\n",
    "    for test in test_list['file_list']:\n",
    "        path = IMAGE_PATH_NEW+test[0][0]\n",
    "        filename = path.split('/')[-1]\n",
    "        path = IMAGE_PATH_NEW+filename\n",
    "        if os.path.exists(path): shutil.move(path,IMAGE_PATH_NEW+'test/'+filename)\n",
    "        anno_path = ANNOTATION_PATH_NEW+filename[:-3]+'txt'\n",
    "        if os.path.exists(anno_path): shutil.move(anno_path,ANNOTATION_PATH_NEW+'test/'+filename[:-3]+'txt')\n",
    "\n",
    "    if not os.path.exists(IMAGE_PATH_NEW+'train'): os.makedirs(IMAGE_PATH_NEW+'train')\n",
    "    if not os.path.exists(ANNOTATION_PATH_NEW+'train'): os.makedirs(ANNOTATION_PATH_NEW+'train')\n",
    "    for train in train_list['file_list']:\n",
    "        path = IMAGE_PATH_NEW+train[0][0]\n",
    "        filename = path.split('/')[-1]\n",
    "        path = IMAGE_PATH_NEW+filename\n",
    "        if os.path.exists(path): shutil.move(path,IMAGE_PATH_NEW+'train/'+filename)\n",
    "        anno_path = ANNOTATION_PATH_NEW+filename[:-3]+'txt'\n",
    "        if os.path.exists(anno_path): shutil.move(anno_path,ANNOTATION_PATH_NEW+'train/'+filename[:-3]+'txt')\n",
    "        \n",
    "# split()"
   ]
  }
 ],
 "metadata": {
  "kernelspec": {
   "display_name": "Python 3 (ipykernel)",
   "language": "python",
   "name": "python3"
  },
  "language_info": {
   "codemirror_mode": {
    "name": "ipython",
    "version": 3
   },
   "file_extension": ".py",
   "mimetype": "text/x-python",
   "name": "python",
   "nbconvert_exporter": "python",
   "pygments_lexer": "ipython3",
   "version": "3.9.7"
  }
 },
 "nbformat": 4,
 "nbformat_minor": 5
}
